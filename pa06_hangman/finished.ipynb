{
 "cells": [
  {
   "cell_type": "code",
   "execution_count": null,
   "metadata": {},
   "outputs": [
    {
     "name": "stdout",
     "output_type": "stream",
     "text": [
      "I am thinking a word of  11 letters long\n"
     ]
    },
    {
     "name": "stdin",
     "output_type": "stream",
     "text": [
      "Please choose a letter a\n"
     ]
    },
    {
     "name": "stdout",
     "output_type": "stream",
     "text": [
      "Congrats!! The letter you guessed is in the word\n",
      "-\n",
      "-\n",
      "-\n",
      "-\n",
      "-\n",
      "a\n",
      "-\n",
      "-\n",
      "-\n",
      "-\n",
      "-\n"
     ]
    },
    {
     "name": "stdin",
     "output_type": "stream",
     "text": [
      "Please enter another letter. c\n"
     ]
    },
    {
     "name": "stdout",
     "output_type": "stream",
     "text": [
      "['a']\n",
      "Sorry, the letter you guessed is not in the word\n",
      "And now you have  5 chances left\n",
      "-\n",
      "-\n",
      "-\n",
      "-\n",
      "-\n",
      "a\n",
      "-\n",
      "-\n",
      "-\n",
      "-\n",
      "-\n"
     ]
    },
    {
     "name": "stdin",
     "output_type": "stream",
     "text": [
      "Please enter another letter. p\n"
     ]
    },
    {
     "name": "stdout",
     "output_type": "stream",
     "text": [
      "['a', 'c']\n",
      "Congrats!! The letter you guessed is in the word\n",
      "p\n",
      "-\n",
      "-\n",
      "-\n",
      "-\n",
      "a\n",
      "-\n",
      "-\n",
      "-\n",
      "-\n",
      "-\n"
     ]
    },
    {
     "name": "stdin",
     "output_type": "stream",
     "text": [
      "Please enter another letter. r\n"
     ]
    },
    {
     "name": "stdout",
     "output_type": "stream",
     "text": [
      "['a', 'c', 'p']\n",
      "Congrats!! The letter you guessed is in the word\n",
      "p\n",
      "r\n",
      "-\n",
      "-\n",
      "r\n",
      "a\n",
      "-\n",
      "-\n",
      "-\n",
      "-\n",
      "-\n"
     ]
    },
    {
     "name": "stdin",
     "output_type": "stream",
     "text": [
      "Please enter another letter. o\n"
     ]
    },
    {
     "name": "stdout",
     "output_type": "stream",
     "text": [
      "['a', 'c', 'p', 'r']\n",
      "Congrats!! The letter you guessed is in the word\n",
      "p\n",
      "r\n",
      "o\n",
      "-\n",
      "r\n",
      "a\n",
      "-\n",
      "-\n",
      "-\n",
      "-\n",
      "-\n"
     ]
    },
    {
     "name": "stdin",
     "output_type": "stream",
     "text": [
      "Please enter another letter. m\n"
     ]
    },
    {
     "name": "stdout",
     "output_type": "stream",
     "text": [
      "['a', 'c', 'p', 'r', 'o']\n",
      "Congrats!! The letter you guessed is in the word\n",
      "p\n",
      "r\n",
      "o\n",
      "-\n",
      "r\n",
      "a\n",
      "m\n",
      "m\n",
      "-\n",
      "-\n",
      "-\n"
     ]
    },
    {
     "name": "stdin",
     "output_type": "stream",
     "text": [
      "Please enter another letter. i\n"
     ]
    },
    {
     "name": "stdout",
     "output_type": "stream",
     "text": [
      "['a', 'c', 'p', 'r', 'o', 'm']\n",
      "Congrats!! The letter you guessed is in the word\n",
      "p\n",
      "r\n",
      "o\n",
      "-\n",
      "r\n",
      "a\n",
      "m\n",
      "m\n",
      "i\n",
      "-\n",
      "-\n"
     ]
    },
    {
     "name": "stdin",
     "output_type": "stream",
     "text": [
      "Please enter another letter. n\n"
     ]
    },
    {
     "name": "stdout",
     "output_type": "stream",
     "text": [
      "['a', 'c', 'p', 'r', 'o', 'm', 'i']\n",
      "Congrats!! The letter you guessed is in the word\n",
      "p\n",
      "r\n",
      "o\n",
      "-\n",
      "r\n",
      "a\n",
      "m\n",
      "m\n",
      "i\n",
      "n\n",
      "-\n"
     ]
    },
    {
     "name": "stdin",
     "output_type": "stream",
     "text": [
      "Please enter another letter. g\n"
     ]
    },
    {
     "name": "stdout",
     "output_type": "stream",
     "text": [
      "['a', 'c', 'p', 'r', 'o', 'm', 'i', 'n']\n",
      "Congrats!! The letter you guessed is in the word\n",
      "Congrats!! You found the word!! The word is programming\n"
     ]
    }
   ],
   "source": [
    "import random\n",
    "words= 'happy brandeis alpha quarantine coronavirus zoom computerscience programming'.split()\n",
    "def get_random_word(wordList):\n",
    "    wordIndex = random.randint(0, len(wordList) - 1)\n",
    "    return wordList[wordIndex]\n",
    "word = get_random_word(words)\n",
    "def print_word(word, guessed_letters1):\n",
    "    for i in word:\n",
    "        if i in guessed_letters1:\n",
    "            print(i)      \n",
    "        else:\n",
    "            print(\"-\")\n",
    "def play_hangman():\n",
    "    want_to_play = True\n",
    "    while (want_to_play):\n",
    "        guessed_letters = []\n",
    "        guesses_left = 6\n",
    "        word= random.choice(words)\n",
    "        print('I am thinking a word of ',len(word),'letters long')\n",
    "        letter = input('Please choose a letter')\n",
    "        letter=letter.lower()\n",
    "        done = False\n",
    "        correct_letters=''\n",
    "        missed_letters=''\n",
    "        while not done:\n",
    "            if letter in guessed_letters:\n",
    "                guesses_left-=1 ##subtract one from guesses_left\n",
    "                print('You just guessed',letter)##and tell them they already guessed that letter\n",
    "                print('And now you have',guesses_left,'chances left')\n",
    "            elif letter not in word:\n",
    "                guessed_letters.append(letter)##add letter to guessed letters\n",
    "                print('Sorry, the letter you guessed is not in the word')#tell user the letter is not in the word\n",
    "                guesses_left-=1##subtract one from the guesses_left\n",
    "                print('And now you have ',guesses_left,'chances left')\n",
    "            else:\n",
    "                guessed_letters.append(letter)##add letter to guessed letters\n",
    "                print('Congrats!! The letter you guessed is in the word')##tell user the letter is in the word\n",
    "            if letter in word:\n",
    "                correct_letters=correct_letters+letter\n",
    "                get_all_letters=True\n",
    "                for i in range(len(word)):\n",
    "                    if word[i] not in correct_letters:\n",
    "                        get_all_letters=False\n",
    "                        break\n",
    "                if get_all_letters: ##all the letters in the word have been guessed\n",
    "                    print('Congrats!! You found the word!! The word is',word)\n",
    "                    want_to_play=False ##set done to be true and tell the user they won!\n",
    "                    break\n",
    "            else:\n",
    "                missed_letters=missed_letters+letter\n",
    "            if guesses_left==0:##the number of guesses left is zero\n",
    "                print('Sorry, you have used up all your attempts. You lost.The word I am thinking is', word)\n",
    "                want_to_play=False ##set done to be true and tell the user they lost!\n",
    "            else:\n",
    "                print_word(word, guessed_letters)##print the word with a dash for each letter not in guessed_letters\n",
    "                letter =input('Please enter another letter.') ##ask the user for another letter\n",
    "                print(guessed_letters)\n",
    "        want_to_play = input('Do you want to play another game? Y/N')##ask the user if they want to play another game...\n",
    "        if want_to_play=='Y':\n",
    "            continue\n",
    "        else:\n",
    "            break\n",
    "play_hangman()"
   ]
  },
  {
   "cell_type": "code",
   "execution_count": null,
   "metadata": {},
   "outputs": [],
   "source": [
    "words= ['happy', 'brandeis', 'alpha', 'quarantine', 'coronavirus', 'zoom', 'computerscience', 'programming']"
   ]
  }
 ],
 "metadata": {
  "kernelspec": {
   "display_name": "Python 3",
   "language": "python",
   "name": "python3"
  },
  "language_info": {
   "codemirror_mode": {
    "name": "ipython",
    "version": 3
   },
   "file_extension": ".py",
   "mimetype": "text/x-python",
   "name": "python",
   "nbconvert_exporter": "python",
   "pygments_lexer": "ipython3",
   "version": "3.7.4"
  }
 },
 "nbformat": 4,
 "nbformat_minor": 4
}
